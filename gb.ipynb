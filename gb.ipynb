{
 "cells": [
  {
   "cell_type": "markdown",
   "metadata": {},
   "source": [
    "Gradient Boosting Algorithm"
   ]
  },
  {
   "cell_type": "code",
   "execution_count": null,
   "metadata": {},
   "outputs": [],
   "source": [
    "# Gradient Boosting Classification\n",
    "# Import models and utility functions\n",
    "from sklearn.ensemble import GradientBoostingClassifier\n",
    "from sklearn.model_selection import train_test_split\n",
    "from sklearn.metrics import accuracy_score\n",
    "from sklearn.datasets import load_digits\n",
    "\n",
    "# Setting SEED for reproducibility\n",
    "SEED = 23\n",
    "\n",
    "# Importing the dataset\n",
    "X, y = load_digits(return_X_y=True)\n",
    "\n",
    "# Splitting dataset\n",
    "train_X, test_X, train_y, test_y = train_test_split(X, y,\n",
    "\t\t\t\t\t\t\t\t\t\t\t\t\ttest_size = 0.25,\n",
    "\t\t\t\t\t\t\t\t\t\t\t\t\trandom_state = SEED)\n",
    "\n",
    "# Instantiate Gradient Boosting Regressor\n",
    "gbc = GradientBoostingClassifier(n_estimators=300,\n",
    "\t\t\t\t\t\t\t\tlearning_rate=0.05,\n",
    "\t\t\t\t\t\t\t\trandom_state=100,\n",
    "\t\t\t\t\t\t\t\tmax_features=5 )\n",
    "# Fit to training set\n",
    "gbc.fit(train_X, train_y)\n",
    "\n",
    "# Predict on test set\n",
    "pred_y = gbc.predict(test_X)\n",
    "\n",
    "# accuracy\n",
    "acc = accuracy_score(test_y, pred_y)\n",
    "print(\"Gradient Boosting Classifier accuracy is : {:.2f}\".format(acc))"
   ]
  }
 ],
 "metadata": {
  "language_info": {
   "name": "python"
  }
 },
 "nbformat": 4,
 "nbformat_minor": 2
}
