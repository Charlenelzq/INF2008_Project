{
 "cells": [
  {
   "cell_type": "markdown",
   "metadata": {},
   "source": [
    "Gradient Boosting Algorithm"
   ]
  },
  {
   "cell_type": "code",
   "execution_count": 21,
   "metadata": {},
   "outputs": [
    {
     "name": "stdout",
     "output_type": "stream",
     "text": [
      "Requirement already satisfied: pandas in c:\\users\\charl\\appdata\\local\\programs\\python\\python313\\lib\\site-packages (2.2.3)Note: you may need to restart the kernel to use updated packages.\n"
     ]
    },
    {
     "name": "stderr",
     "output_type": "stream",
     "text": [
      "\n",
      "[notice] A new release of pip is available: 25.0 -> 25.0.1\n",
      "[notice] To update, run: python.exe -m pip install --upgrade pip\n"
     ]
    },
    {
     "name": "stdout",
     "output_type": "stream",
     "text": [
      "\n",
      "Requirement already satisfied: numpy>=1.26.0 in c:\\users\\charl\\appdata\\local\\programs\\python\\python313\\lib\\site-packages (from pandas) (2.2.2)\n",
      "Requirement already satisfied: python-dateutil>=2.8.2 in c:\\users\\charl\\appdata\\local\\programs\\python\\python313\\lib\\site-packages (from pandas) (2.9.0.post0)\n",
      "Requirement already satisfied: pytz>=2020.1 in c:\\users\\charl\\appdata\\local\\programs\\python\\python313\\lib\\site-packages (from pandas) (2025.1)\n",
      "Requirement already satisfied: tzdata>=2022.7 in c:\\users\\charl\\appdata\\local\\programs\\python\\python313\\lib\\site-packages (from pandas) (2025.1)\n",
      "Requirement already satisfied: six>=1.5 in c:\\users\\charl\\appdata\\local\\programs\\python\\python313\\lib\\site-packages (from python-dateutil>=2.8.2->pandas) (1.17.0)\n",
      "Requirement already satisfied: scikit-learn in c:\\users\\charl\\appdata\\local\\programs\\python\\python313\\lib\\site-packages (1.6.1)\n",
      "Requirement already satisfied: numpy>=1.19.5 in c:\\users\\charl\\appdata\\local\\programs\\python\\python313\\lib\\site-packages (from scikit-learn) (2.2.2)\n",
      "Requirement already satisfied: scipy>=1.6.0 in c:\\users\\charl\\appdata\\local\\programs\\python\\python313\\lib\\site-packages (from scikit-learn) (1.15.1)\n",
      "Requirement already satisfied: joblib>=1.2.0 in c:\\users\\charl\\appdata\\local\\programs\\python\\python313\\lib\\site-packages (from scikit-learn) (1.4.2)\n",
      "Requirement already satisfied: threadpoolctl>=3.1.0 in c:\\users\\charl\\appdata\\local\\programs\\python\\python313\\lib\\site-packages (from scikit-learn) (3.5.0)\n",
      "Note: you may need to restart the kernel to use updated packages.\n"
     ]
    },
    {
     "name": "stderr",
     "output_type": "stream",
     "text": [
      "\n",
      "[notice] A new release of pip is available: 25.0 -> 25.0.1\n",
      "[notice] To update, run: python.exe -m pip install --upgrade pip\n"
     ]
    },
    {
     "name": "stdout",
     "output_type": "stream",
     "text": [
      "Requirement already satisfied: matplotlib in c:\\users\\charl\\appdata\\local\\programs\\python\\python313\\lib\\site-packages (3.10.0)\n",
      "Requirement already satisfied: contourpy>=1.0.1 in c:\\users\\charl\\appdata\\local\\programs\\python\\python313\\lib\\site-packages (from matplotlib) (1.3.1)\n",
      "Requirement already satisfied: cycler>=0.10 in c:\\users\\charl\\appdata\\local\\programs\\python\\python313\\lib\\site-packages (from matplotlib) (0.12.1)\n",
      "Requirement already satisfied: fonttools>=4.22.0 in c:\\users\\charl\\appdata\\local\\programs\\python\\python313\\lib\\site-packages (from matplotlib) (4.55.8)\n",
      "Requirement already satisfied: kiwisolver>=1.3.1 in c:\\users\\charl\\appdata\\local\\programs\\python\\python313\\lib\\site-packages (from matplotlib) (1.4.8)\n",
      "Requirement already satisfied: numpy>=1.23 in c:\\users\\charl\\appdata\\local\\programs\\python\\python313\\lib\\site-packages (from matplotlib) (2.2.2)\n",
      "Requirement already satisfied: packaging>=20.0 in c:\\users\\charl\\appdata\\roaming\\python\\python313\\site-packages (from matplotlib) (24.2)\n",
      "Requirement already satisfied: pillow>=8 in c:\\users\\charl\\appdata\\local\\programs\\python\\python313\\lib\\site-packages (from matplotlib) (11.1.0)\n",
      "Requirement already satisfied: pyparsing>=2.3.1 in c:\\users\\charl\\appdata\\local\\programs\\python\\python313\\lib\\site-packages (from matplotlib) (3.2.1)\n",
      "Requirement already satisfied: python-dateutil>=2.7 in c:\\users\\charl\\appdata\\local\\programs\\python\\python313\\lib\\site-packages (from matplotlib) (2.9.0.post0)\n",
      "Requirement already satisfied: six>=1.5 in c:\\users\\charl\\appdata\\local\\programs\\python\\python313\\lib\\site-packages (from python-dateutil>=2.7->matplotlib) (1.17.0)\n",
      "Note: you may need to restart the kernel to use updated packages.\n"
     ]
    },
    {
     "name": "stderr",
     "output_type": "stream",
     "text": [
      "\n",
      "[notice] A new release of pip is available: 25.0 -> 25.0.1\n",
      "[notice] To update, run: python.exe -m pip install --upgrade pip\n"
     ]
    }
   ],
   "source": [
    "# Install dependencies\n",
    "%pip install pandas\n",
    "%pip install scikit-learn\n",
    "%pip install matplotlib"
   ]
  },
  {
   "cell_type": "code",
   "execution_count": 22,
   "metadata": {},
   "outputs": [],
   "source": [
    "# Import dependencies\n",
    "import pandas as pd\n",
    "import matplotlib.pyplot as plt\n",
    "from sklearn.preprocessing import StandardScaler, LabelEncoder"
   ]
  },
  {
   "cell_type": "code",
   "execution_count": 23,
   "metadata": {},
   "outputs": [],
   "source": [
    "# Import data\n",
    "data = pd.read_csv(\"original_data_with_fraud.csv\")"
   ]
  },
  {
   "cell_type": "code",
   "execution_count": 24,
   "metadata": {},
   "outputs": [
    {
     "name": "stdout",
     "output_type": "stream",
     "text": [
      "<class 'pandas.core.frame.DataFrame'>\n",
      "RangeIndex: 2512 entries, 0 to 2511\n",
      "Data columns (total 13 columns):\n",
      " #   Column                    Non-Null Count  Dtype         \n",
      "---  ------                    --------------  -----         \n",
      " 0   TransactionAmount         2512 non-null   float64       \n",
      " 1   TransactionDate           2512 non-null   datetime64[ns]\n",
      " 2   TransactionType           2512 non-null   int64         \n",
      " 3   Location                  2512 non-null   int64         \n",
      " 4   Channel                   2512 non-null   int64         \n",
      " 5   CustomerAge               2512 non-null   float64       \n",
      " 6   CustomerOccupation        2512 non-null   int64         \n",
      " 7   TransactionDuration       2512 non-null   float64       \n",
      " 8   LoginAttempts             2512 non-null   float64       \n",
      " 9   AccountBalance            2512 non-null   float64       \n",
      " 10  PreviousTransactionDate   2512 non-null   datetime64[ns]\n",
      " 11  Fraud                     2512 non-null   bool          \n",
      " 12  TimeSinceLastTransaction  2512 non-null   float64       \n",
      "dtypes: bool(1), datetime64[ns](2), float64(6), int64(4)\n",
      "memory usage: 238.1 KB\n"
     ]
    }
   ],
   "source": [
    "# Data Preprocessing\n",
    "\n",
    "# Drop columns that are not needed for the model\n",
    "data = data.drop(columns=['TransactionID', 'AccountID', 'DeviceID', 'IP Address', 'MerchantID'])\n",
    "\n",
    "# Preprocessing: Handle datetime columns\n",
    "data['TransactionDate'] = pd.to_datetime(data['TransactionDate'])\n",
    "data['PreviousTransactionDate'] = pd.to_datetime(data['PreviousTransactionDate'])\n",
    "data['TimeSinceLastTransaction'] = (data['TransactionDate'] - data['PreviousTransactionDate']).dt.total_seconds()\n",
    "\n",
    "# Identify numeric and categorical columns\n",
    "numeric_cols = ['TransactionAmount', 'TransactionDuration', 'LoginAttempts', 'AccountBalance', 'CustomerAge', 'TimeSinceLastTransaction']\n",
    "categorical_cols = ['TransactionType', 'Location', 'Channel', 'CustomerOccupation']\n",
    "\n",
    "# Normalize numeric columns\n",
    "scaler = StandardScaler()\n",
    "data[numeric_cols] = scaler.fit_transform(data[numeric_cols])\n",
    "\n",
    "label_encoder = LabelEncoder()\n",
    "for col in categorical_cols:\n",
    "    data[col] = label_encoder.fit_transform(data[col])\n",
    "\n",
    "data.head()\n",
    "data.info()"
   ]
  },
  {
   "cell_type": "code",
   "execution_count": 25,
   "metadata": {},
   "outputs": [
    {
     "name": "stdout",
     "output_type": "stream",
     "text": [
      "Best Parameters: {'learning_rate': 0.05, 'max_depth': 3, 'max_features': 'sqrt', 'min_samples_split': 5, 'n_estimators': 200, 'subsample': 1.0}\n",
      "Gradient Boosting Classifier accuracy is : 0.974155069582505\n",
      "\n",
      "Classification Report:\n",
      "              precision    recall  f1-score   support\n",
      "\n",
      "       False       0.98      1.00      0.99       466\n",
      "        True       0.93      0.70      0.80        37\n",
      "\n",
      "    accuracy                           0.97       503\n",
      "   macro avg       0.95      0.85      0.89       503\n",
      "weighted avg       0.97      0.97      0.97       503\n",
      "\n",
      "\n",
      "Confusion Matrix:\n",
      "[[464   2]\n",
      " [ 11  26]]\n",
      "\n",
      "Feature Importances:\n",
      "TransactionAmount: 0.2295\n",
      "TransactionType: 0.0024\n",
      "Location: 0.0084\n",
      "Channel: 0.0012\n",
      "CustomerAge: 0.0179\n",
      "CustomerOccupation: 0.0061\n",
      "TransactionDuration: 0.0386\n",
      "LoginAttempts: 0.5878\n",
      "AccountBalance: 0.0765\n",
      "TimeSinceLastTransaction: 0.0317\n"
     ]
    }
   ],
   "source": [
    "# Gradient Boosting Classification\n",
    "# Import models and utility functions\n",
    "from sklearn.ensemble import GradientBoostingClassifier\n",
    "from sklearn.model_selection import train_test_split, GridSearchCV\n",
    "from sklearn.metrics import accuracy_score, classification_report, confusion_matrix\n",
    "\n",
    "\n",
    "# Importing the dataset\n",
    "X = data.drop(columns=['Fraud', 'TransactionDate', 'PreviousTransactionDate'])\n",
    "y = data['Fraud']\n",
    "\n",
    "# Splitting dataset\n",
    "train_X, test_X, train_y, test_y = train_test_split(X, y,\n",
    "\t\t\t\t\t\t\t\t\t\t\t\t\ttest_size = 0.2,\n",
    "\t\t\t\t\t\t\t\t\t\t\t\t\trandom_state = 42)\n",
    "\n",
    "from sklearn.model_selection import GridSearchCV\n",
    "\n",
    "param_grid = {\n",
    "    'n_estimators': [100, 200],\n",
    "    'learning_rate': [0.01, 0.05, 0.1],\n",
    "    'max_depth': [3, 5],\n",
    "    'max_features': [5, 'sqrt', 'log2'],\n",
    "    'subsample': [0.8, 1.0],  # Fraction of samples to use for fitting each tree\n",
    "    'min_samples_split': [2, 5],  # Minimum samples required to split an internal node\n",
    "}\n",
    "\n",
    "grid_search = GridSearchCV(GradientBoostingClassifier(random_state=42), param_grid, cv=5, scoring='accuracy', n_jobs=-1)\n",
    "grid_search.fit(train_X, train_y)\n",
    "\n",
    "# Best parameters from grid search\n",
    "print(f\"Best Parameters: {grid_search.best_params_}\")\n",
    "\n",
    "# Instantiate Gradient Boosting with best parameters\n",
    "gbc = GradientBoostingClassifier(**grid_search.best_params_, random_state=42)\n",
    "\n",
    "# Fit to training set\n",
    "gbc.fit(train_X, train_y)\n",
    "\n",
    "# Predict on test set\n",
    "pred_y = gbc.predict(test_X)\n",
    "\n",
    "# Accuracy\n",
    "acc = accuracy_score(test_y, pred_y)\n",
    "print(f\"Gradient Boosting Classifier accuracy is : {acc}\")\n",
    "\n",
    "# Additional Evaluation Metrics\n",
    "print(\"\\nClassification Report:\")\n",
    "print(classification_report(test_y, pred_y))\n",
    "\n",
    "print(\"\\nConfusion Matrix:\")\n",
    "print(confusion_matrix(test_y, pred_y))\n",
    "\n",
    "# Feature Importances (Optional)\n",
    "importances = gbc.feature_importances_\n",
    "print(\"\\nFeature Importances:\")\n",
    "for feature, importance in zip(X.columns, importances):\n",
    "    print(f\"{feature}: {importance:.4f}\")\n",
    "\n",
    "\n",
    "# # Instantiate Gradient Boosting Regressor\n",
    "# gbc = GradientBoostingClassifier(n_estimators=100,\n",
    "# \t\t\t\t\t\t\t\tlearning_rate=0.05,\n",
    "# \t\t\t\t\t\t\t\trandom_state=42,\n",
    "# \t\t\t\t\t\t\t\tmax_features=5 )\n",
    "# # Fit to training set\n",
    "# gbc.fit(train_X, train_y)\n",
    "\n",
    "# # Predict on test set\n",
    "# pred_y = gbc.predict(test_X)\n",
    "\n",
    "# # accuracy\n",
    "# acc = accuracy_score(test_y, pred_y)\n",
    "# print(f\"Gradient Boosting Classifier accuracy is : {acc}\")"
   ]
  }
 ],
 "metadata": {
  "kernelspec": {
   "display_name": "Python 3",
   "language": "python",
   "name": "python3"
  },
  "language_info": {
   "codemirror_mode": {
    "name": "ipython",
    "version": 3
   },
   "file_extension": ".py",
   "mimetype": "text/x-python",
   "name": "python",
   "nbconvert_exporter": "python",
   "pygments_lexer": "ipython3",
   "version": "3.13.1"
  }
 },
 "nbformat": 4,
 "nbformat_minor": 2
}
